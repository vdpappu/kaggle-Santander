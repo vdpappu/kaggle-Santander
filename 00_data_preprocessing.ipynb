{
 "cells": [
  {
   "cell_type": "code",
   "execution_count": 1,
   "metadata": {
    "collapsed": false
   },
   "outputs": [
    {
     "name": "stderr",
     "output_type": "stream",
     "text": [
      "/usr/local/lib/python2.7/dist-packages/ipykernel/__main__.py:5: FutureWarning: The pandas.rpy module is deprecated and will be removed in a future version. We refer to external packages like rpy2. \n",
      "See here for a guide on how to port your code to rpy2: http://pandas.pydata.org/pandas-docs/stable/r_interface.html\n"
     ]
    }
   ],
   "source": [
    "from rpy2.robjects.packages import importr\n",
    "import rpy2.robjects as ro\n",
    "import pandas as pd\n",
    "import numpy as np\n",
    "import pandas.rpy.common as com\n",
    "from rpy2.robjects import pandas2ri"
   ]
  },
  {
   "cell_type": "code",
   "execution_count": 2,
   "metadata": {
    "collapsed": true
   },
   "outputs": [],
   "source": [
    "train = pd.read_csv(\"./input/train.csv\")\n",
    "test = pd.read_csv(\"./input/test.csv\")"
   ]
  },
  {
   "cell_type": "code",
   "execution_count": 3,
   "metadata": {
    "collapsed": true
   },
   "outputs": [],
   "source": [
    "train_target = train['TARGET']\n",
    "train_id = train['ID']\n",
    "test_id= test['ID']\n",
    "\n",
    "train = train.drop(['TARGET','ID'],axis=1)\n",
    "test = test.drop(['ID'],axis=1)"
   ]
  },
  {
   "cell_type": "code",
   "execution_count": 4,
   "metadata": {
    "collapsed": false
   },
   "outputs": [
    {
     "name": "stdout",
     "output_type": "stream",
     "text": [
      "Train Shape: (76020, 369)\n",
      "Test Shape: (75818, 369)\n"
     ]
    }
   ],
   "source": [
    "print \"Train Shape:\", train.shape\n",
    "print \"Test Shape:\", test.shape"
   ]
  },
  {
   "cell_type": "code",
   "execution_count": 5,
   "metadata": {
    "collapsed": false
   },
   "outputs": [],
   "source": [
    "#remove parameters where sd is zero\n",
    "rmList = list()\n",
    "for param in list(train):\n",
    "    if(np.std(train[param]) == 0):\n",
    "        rmList.append(param)\n",
    "        \n",
    "train = train.drop(rmList,axis=1)\n",
    "test= test.drop(rmList,axis=1)"
   ]
  },
  {
   "cell_type": "code",
   "execution_count": 6,
   "metadata": {
    "collapsed": false
   },
   "outputs": [
    {
     "name": "stdout",
     "output_type": "stream",
     "text": [
      "Train Shape: (76020, 335)\n",
      "Test Shape: (75818, 335)\n"
     ]
    }
   ],
   "source": [
    "print \"Train Shape:\", train.shape\n",
    "print \"Test Shape:\", test.shape"
   ]
  },
  {
   "cell_type": "code",
   "execution_count": 22,
   "metadata": {
    "collapsed": true
   },
   "outputs": [],
   "source": [
    "#remove highly correlated parameters\n",
    "pandas2ri.activate()\n",
    "\n",
    "#train['file_name'] = 'Train'\n",
    "#test['file_name'] = 'Test'\n",
    "\n",
    "#merged_df = pd.concat([train,test])\n",
    "#file_name_ser = merged_df['file_name']\n",
    "#merged_df =merged_df.drop(['file_name'],axis=1)\n",
    "#merged_df = merged_df.reindex()\n",
    "\n",
    "r_corrMat = ro.r.cor(train)\n",
    "caret = importr('caret')\n",
    "rm_params = caret.findCorrelation(r_corrMat,cutoff = 0.99,names = True)\n",
    "rm_params =list(rm_params)"
   ]
  },
  {
   "cell_type": "markdown",
   "metadata": {},
   "source": [
    "## Getting parameters from R as above code is not returning any params"
   ]
  },
  {
   "cell_type": "code",
   "execution_count": 7,
   "metadata": {
    "collapsed": false
   },
   "outputs": [],
   "source": [
    "rm_params = [\"imp_op_var39_efect_ult1\",\"imp_op_var39_efect_ult3\",\"imp_op_var39_ult1\",\"num_var1_0\",\"num_var1\",\n",
    "             \"num_var5\",\"num_var12\",\"num_var13_corto_0\",\"num_var24\",\"num_op_var39_hace2\",\n",
    "             \"delta_num_aport_var17_1y3\",\"delta_num_aport_var33_1y3\",\"delta_num_compra_var44_1y3\",\n",
    "             \"delta_num_venta_var44_1y3\",\"imp_amort_var18_ult1\",\"num_op_var39_efect_ult1\",\n",
    "             \"num_op_var39_efect_ult3\",\"num_trasp_var17_in_hace3\",\"num_var45_ult3\",\n",
    "             \"saldo_medio_var13_medio_ult3\",\"saldo_medio_var17_hace2\",\"saldo_medio_var17_ult1\",\n",
    "             \"saldo_medio_var17_ult3\",\"saldo_medio_var33_ult3\",\"ind_var13_largo_0\",\"ind_var13_medio_0\",\n",
    "             \"ind_var18_0\",\"ind_var26_0\",\"ind_var25_0\",\"ind_var6_0\",\"ind_var6\",\"ind_var32_0\",\"ind_var34_0\",\n",
    "             \"ind_var37_0\",\"ind_var1_0\",\"ind_var1\",\"ind_var40\",\"ind_var29_0\",\"ind_var29\",\"ind_var8_0\",\n",
    "             \"ind_var8\",\"ind_var13_corto\",\"ind_var13_medio\",\"num_var13_medio_0\",\"ind_var18\",\"num_var18_0\",\n",
    "             \"ind_var20_0\",\"ind_var20\",\"ind_var24_0\",\"num_var26_0\",\"num_var25_0\",\"num_var6_0\",\"num_var6\",\n",
    "             \"num_var32_0\",\"ind_var34\",\"num_var34_0\",\"num_var37_0\",\"ind_var40_0\",\"ind_var39\",\"num_var40\",\n",
    "             \"ind_var44_0\",\"ind_var44\",\"saldo_var1\",\"saldo_var12\",\"saldo_var6\",\"num_var18\",\"num_var34\",\n",
    "             \"delta_imp_aport_var13_1y3\",\"delta_imp_reemb_var13_1y3\",\"delta_imp_reemb_var17_1y3\",\n",
    "             \"delta_imp_reemb_var33_1y3\",\"delta_imp_trasp_var17_in_1y3\",\"delta_imp_trasp_var17_out_1y3\",\n",
    "             \"delta_imp_trasp_var33_in_1y3\",\"delta_imp_trasp_var33_out_1y3\",\"delta_num_reemb_var33_1y3\",\n",
    "             \"delta_num_trasp_var33_out_1y3\",\"ind_var7_emit_ult1\",\"num_var13_medio\",\"delta_num_reemb_var13_1y3\",\n",
    "             \"imp_reemb_var17_hace3\",\"imp_reemb_var33_ult1\",\"delta_num_trasp_var17_in_1y3\",\n",
    "             \"delta_num_trasp_var17_out_1y3\",\"imp_trasp_var33_out_ult1\",\"saldo_var13_medio\",\n",
    "             \"imp_aport_var17_hace3\",\"saldo_var33\"]"
   ]
  },
  {
   "cell_type": "code",
   "execution_count": 8,
   "metadata": {
    "collapsed": false
   },
   "outputs": [],
   "source": [
    "train = train.drop(rm_params,axis=1)\n",
    "test = test.drop(rm_params,axis=1)"
   ]
  },
  {
   "cell_type": "code",
   "execution_count": 10,
   "metadata": {
    "collapsed": false
   },
   "outputs": [],
   "source": [
    "train['TARGET'] = train_target\n",
    "train['ID'] = train_id\n",
    "test['ID'] = train_id"
   ]
  },
  {
   "cell_type": "code",
   "execution_count": 11,
   "metadata": {
    "collapsed": false
   },
   "outputs": [],
   "source": [
    "train.to_csv(\"./input/train_prep1.csv\",index=False)\n",
    "test.to_csv(\"./input/test_prep1.csv\",index=False)"
   ]
  }
 ],
 "metadata": {
  "kernelspec": {
   "display_name": "Python 2",
   "language": "python",
   "name": "python2"
  },
  "language_info": {
   "codemirror_mode": {
    "name": "ipython",
    "version": 2
   },
   "file_extension": ".py",
   "mimetype": "text/x-python",
   "name": "python",
   "nbconvert_exporter": "python",
   "pygments_lexer": "ipython2",
   "version": "2.7.6"
  }
 },
 "nbformat": 4,
 "nbformat_minor": 0
}
