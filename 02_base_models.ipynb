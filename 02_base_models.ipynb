{
 "cells": [
  {
   "cell_type": "code",
   "execution_count": null,
   "metadata": {
    "collapsed": true
   },
   "outputs": [],
   "source": [
    "import pandas as pd\n",
    "import xgboost as xgb\n",
    "import csv\n",
    "import numpy as np\n",
    "from sklearn.ensemble import ExtraTreesClassifier\n",
    "from sklearn.calibration import CalibratedClassifierCV\n",
    "from sklearn import preprocessing\n",
    "from sklearn import cross_validation"
   ]
  },
  {
   "cell_type": "code",
   "execution_count": null,
   "metadata": {
    "collapsed": true
   },
   "outputs": [],
   "source": [
    "train = pd.read_csv(\"./input/train_prep1.csv\")\n",
    "test = pd.read_csv(\"./input/test_prep1.csv\")\n",
    "\n",
    "test_forIDs = pd.read_csv(\"./input/test.csv\")\n",
    "\n",
    "train_ids = train.ID\n",
    "test_ids = test_forIDs.ID\n",
    "train_target = train.TARGET\n",
    "\n",
    "train = train.drop([\"ID\",\"TARGET\"],axis=1)\n",
    "test = test.drop([\"ID\"],axis=1)"
   ]
  },
  {
   "cell_type": "code",
   "execution_count": null,
   "metadata": {
    "collapsed": true
   },
   "outputs": [],
   "source": [
    "xgtrain = xgb.DMatrix(train.values, train_target)\n",
    "xgtest = xgb.DMatrix(test.values)"
   ]
  },
  {
   "cell_type": "code",
   "execution_count": null,
   "metadata": {
    "collapsed": false
   },
   "outputs": [],
   "source": [
    "xgboost_params = { \n",
    "   \"objective\": \"binary:logistic\",\n",
    "   \"booster\": \"gbtree\",\n",
    "   \"eval_metric\": \"auc\",\n",
    "   \"eta\": 0.09, # 0.06, #0.01,\n",
    "   \"min_child_weight\": 240,\n",
    "   \"subsample\": 0.5,\n",
    "   \"colsample_bytree\": 0.9,\n",
    "   \"max_depth\": 30,\n",
    "   \"lambda\": 0.1\n",
    "}"
   ]
  },
  {
   "cell_type": "code",
   "execution_count": null,
   "metadata": {
    "collapsed": false
   },
   "outputs": [],
   "source": [
    "xgb.cv(xgboost_params,xgtrain,num_boost_round=10, nfold=5)"
   ]
  },
  {
   "cell_type": "markdown",
   "metadata": {},
   "source": [
    "### RUN BASE XGB MODEL"
   ]
  },
  {
   "cell_type": "code",
   "execution_count": null,
   "metadata": {
    "collapsed": true
   },
   "outputs": [],
   "source": [
    "boost_round = 2000\n",
    "clf = xgb.train(xgboost_params,xgtrain,num_boost_round=boost_round,verbose_eval=True,maximize=False)"
   ]
  },
  {
   "cell_type": "code",
   "execution_count": null,
   "metadata": {
    "collapsed": false
   },
   "outputs": [],
   "source": [
    "print('Predict...')\n",
    "test_preds = clf.predict(xgtest, ntree_limit=clf.best_iteration)\n",
    "pd.DataFrame({\"ID\": test_ids, \"TARGET\": test_preds}).to_csv('xgb_submission1.csv',index=False)"
   ]
  },
  {
   "cell_type": "markdown",
   "metadata": {},
   "source": [
    "### RUN BASE XGB MODEL WITHOUT PREPROCESSING"
   ]
  },
  {
   "cell_type": "code",
   "execution_count": null,
   "metadata": {
    "collapsed": true
   },
   "outputs": [],
   "source": [
    "#Running xgboost without removing highly correlating parameters\n",
    "train = pd.read_csv(\"./input/train.csv\")\n",
    "test = pd.read_csv(\"./input/test.csv\")\n",
    "\n",
    "train_ids = train.ID\n",
    "test_ids = test_forIDs.ID\n",
    "train_target = train.TARGET\n",
    "\n",
    "train = train.drop([\"ID\",\"TARGET\"],axis=1)\n",
    "test = test.drop([\"ID\"],axis=1)"
   ]
  },
  {
   "cell_type": "code",
   "execution_count": null,
   "metadata": {
    "collapsed": false
   },
   "outputs": [],
   "source": [
    "xgtrain = xgb.DMatrix(train.values, train_target)\n",
    "xgtest = xgb.DMatrix(test.values)"
   ]
  },
  {
   "cell_type": "code",
   "execution_count": null,
   "metadata": {
    "collapsed": false
   },
   "outputs": [],
   "source": [
    "xgboost_params = { \n",
    "   \"objective\": \"binary:logistic\",\n",
    "   \"booster\": \"gbtree\",\n",
    "   \"eval_metric\": \"auc\",\n",
    "   \"eta\": 0.09, # 0.06, #0.01,\n",
    "   \"min_child_weight\": 240,\n",
    "   \"subsample\": 0.5,\n",
    "   \"colsample_bytree\": 0.9,\n",
    "   \"max_depth\": 30,\n",
    "   \"lambda\": 0.1\n",
    "}"
   ]
  },
  {
   "cell_type": "code",
   "execution_count": null,
   "metadata": {
    "collapsed": false
   },
   "outputs": [],
   "source": [
    "xgb.cv(xgboost_params,xgtrain,num_boost_round=10, nfold=5)"
   ]
  },
  {
   "cell_type": "code",
   "execution_count": null,
   "metadata": {
    "collapsed": false
   },
   "outputs": [],
   "source": [
    "boost_round = 2000\n",
    "clf = xgb.train(xgboost_params,xgtrain,num_boost_round=boost_round,verbose_eval=True,maximize=False)\n",
    "\n",
    "print('Predict...')\n",
    "test_preds = clf.predict(xgtest, ntree_limit=clf.best_iteration)\n",
    "pd.DataFrame({\"ID\": test_ids, \"TARGET\": test_preds}).to_csv('xgb_submission2_noPrep.csv',index=False)"
   ]
  },
  {
   "cell_type": "markdown",
   "metadata": {},
   "source": [
    "### RUN BASE XGB MODEL removing zero SD parameters"
   ]
  },
  {
   "cell_type": "code",
   "execution_count": null,
   "metadata": {
    "collapsed": true
   },
   "outputs": [],
   "source": [
    "#Running xgboost without removing highly correlating parameters\n",
    "train = pd.read_csv(\"./input/train.csv\")\n",
    "test = pd.read_csv(\"./input/test.csv\")\n",
    "\n",
    "train_ids = train.ID\n",
    "test_ids = test_forIDs.ID\n",
    "train_target = train.TARGET\n",
    "\n",
    "train = train.drop([\"ID\",\"TARGET\"],axis=1)\n",
    "test = test.drop([\"ID\"],axis=1)"
   ]
  },
  {
   "cell_type": "code",
   "execution_count": null,
   "metadata": {
    "collapsed": true
   },
   "outputs": [],
   "source": [
    "#remove parameters where sd is zero\n",
    "rmList = list()\n",
    "for param in list(train):\n",
    "    if(np.std(train[param]) == 0):\n",
    "        rmList.append(param)\n",
    "        \n",
    "train = train.drop(rmList,axis=1)\n",
    "test= test.drop(rmList,axis=1)"
   ]
  },
  {
   "cell_type": "code",
   "execution_count": null,
   "metadata": {
    "collapsed": true
   },
   "outputs": [],
   "source": [
    "xgtrain = xgb.DMatrix(train.values, train_target)\n",
    "xgtest = xgb.DMatrix(test.values)"
   ]
  },
  {
   "cell_type": "code",
   "execution_count": null,
   "metadata": {
    "collapsed": true
   },
   "outputs": [],
   "source": [
    "xgboost_params = { \n",
    "   \"objective\": \"binary:logistic\",\n",
    "   \"booster\": \"gbtree\",\n",
    "   \"eval_metric\": \"auc\",\n",
    "   \"eta\": 0.09, # 0.06, #0.01,\n",
    "   \"min_child_weight\": 240,\n",
    "   \"subsample\": 0.5,\n",
    "   \"colsample_bytree\": 0.9,\n",
    "   \"max_depth\": 30,\n",
    "   \"lambda\": 0.1\n",
    "}"
   ]
  },
  {
   "cell_type": "code",
   "execution_count": null,
   "metadata": {
    "collapsed": false
   },
   "outputs": [],
   "source": [
    "xgb.cv(xgboost_params,xgtrain,num_boost_round=10, nfold=5)"
   ]
  },
  {
   "cell_type": "code",
   "execution_count": null,
   "metadata": {
    "collapsed": false
   },
   "outputs": [],
   "source": [
    "boost_round = 2000\n",
    "clf = xgb.train(xgboost_params,xgtrain,num_boost_round=boost_round,verbose_eval=True,maximize=False)\n",
    "\n",
    "print('Predict...')\n",
    "test_preds = clf.predict(xgtest, ntree_limit=clf.best_iteration)\n",
    "pd.DataFrame({\"ID\": test_ids, \"TARGET\": test_preds}).to_csv('xgb_submission3_noZeroSD.csv',index=False)"
   ]
  },
  {
   "cell_type": "markdown",
   "metadata": {},
   "source": [
    "## Run extra tree classifier"
   ]
  },
  {
   "cell_type": "code",
   "execution_count": null,
   "metadata": {
    "collapsed": true
   },
   "outputs": [],
   "source": [
    "extc = ExtraTreesClassifier(n_estimators=700,max_features= 50,criterion= 'entropy',min_samples_split= 5,\n",
    "                            max_depth= 50, min_samples_leaf= 5)\n",
    "calibrated_clf = CalibratedClassifierCV(extc,method='isotonic', cv=5)"
   ]
  },
  {
   "cell_type": "code",
   "execution_count": null,
   "metadata": {
    "collapsed": false
   },
   "outputs": [],
   "source": [
    "#calibrated_clf = CalibratedClassifierCV(extc,method='isotonic', cv=5)\n",
    "calibrated_clf.fit(train,train_target) \n",
    "#train_pred = extc.predict_proba(X_train)"
   ]
  },
  {
   "cell_type": "code",
   "execution_count": null,
   "metadata": {
    "collapsed": false
   },
   "outputs": [],
   "source": [
    "print('Predict...')\n",
    "test_pred = extc.predict_proba(test)\n",
    "scores = cross_validation.cross_val_score(extc,train,train_target,cv = 5, scoring = \"roc_auc\",verbose=1,n_jobs= 5)"
   ]
  },
  {
   "cell_type": "code",
   "execution_count": null,
   "metadata": {
    "collapsed": false
   },
   "outputs": [],
   "source": [
    "pd.DataFrame({\"ID\": test_ids, \"TARGET\": test_pred[:,1]}).to_csv('extratree_calib_1.csv',index=False)"
   ]
  },
  {
   "cell_type": "markdown",
   "metadata": {},
   "source": [
    "## Run Calibrated XGB on reduced parameters"
   ]
  },
  {
   "cell_type": "code",
   "execution_count": null,
   "metadata": {
    "collapsed": true
   },
   "outputs": [],
   "source": [
    "xgboost_params = { \n",
    "   \"objective\": \"binary:logistic\",\n",
    "   \"booster\": \"gbtree\",\n",
    "   \"eval_metric\": \"auc\",\n",
    "   \"eta\": 0.09, # 0.06, #0.01,\n",
    "   \"min_child_weight\": 240,\n",
    "   \"subsample\": 0.5,\n",
    "   \"colsample_bytree\": 0.9,\n",
    "   \"max_depth\": 30,\n",
    "   \"lambda\": 0.1\n",
    "}"
   ]
  },
  {
   "cell_type": "code",
   "execution_count": null,
   "metadata": {
    "collapsed": false
   },
   "outputs": [],
   "source": [
    "boost_round = 2000\n",
    "clf = xgb.XGBClassifier(xgboost_params)\n",
    "calibrated_clf = CalibratedClassifierCV(clf,method='isotonic', cv=5)\n",
    "calibrated_clf.fit(train,train_target,boost_round) "
   ]
  },
  {
   "cell_type": "code",
   "execution_count": null,
   "metadata": {
    "collapsed": true
   },
   "outputs": [],
   "source": [
    "test_pred = calibrated_clf.predict_proba(test)"
   ]
  },
  {
   "cell_type": "code",
   "execution_count": null,
   "metadata": {
    "collapsed": false
   },
   "outputs": [],
   "source": [
    "pd.DataFrame({\"ID\": test_ids, \"TARGET\": test_pred[:,1]}).to_csv('xgb_calib_1.csv',index=False)"
   ]
  },
  {
   "cell_type": "code",
   "execution_count": null,
   "metadata": {
    "collapsed": true
   },
   "outputs": [],
   "source": [
    "?xgb.XGBClassifier"
   ]
  },
  {
   "cell_type": "code",
   "execution_count": null,
   "metadata": {
    "collapsed": true
   },
   "outputs": [],
   "source": []
  }
 ],
 "metadata": {
  "kernelspec": {
   "display_name": "Python 2",
   "language": "python",
   "name": "python2"
  },
  "language_info": {
   "codemirror_mode": {
    "name": "ipython",
    "version": 2
   },
   "file_extension": ".py",
   "mimetype": "text/x-python",
   "name": "python",
   "nbconvert_exporter": "python",
   "pygments_lexer": "ipython2",
   "version": "2.7.6"
  }
 },
 "nbformat": 4,
 "nbformat_minor": 0
}
